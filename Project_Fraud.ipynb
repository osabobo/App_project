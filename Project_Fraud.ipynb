{
 "cells": [
  {
   "cell_type": "markdown",
   "id": "a7309f33",
   "metadata": {},
   "source": [
    "## Problem Statement"
   ]
  },
  {
   "cell_type": "markdown",
   "id": "b621c6ad",
   "metadata": {},
   "source": [
    "Given the final narrative report of the Anti-Corruption Country Threshold (ACT) program in Uganda, the goal is to develop a natural language processing (NLP) model that can automatically extract and summarize key program objectives, achievements, successes, and shortcomings across its various components. This model could be used to assist program evaluators and policymakers in quickly identifying areas of success and improvement, as well as informing future anti-corruption initiatives in Uganda and beyond."
   ]
  },
  {
   "cell_type": "code",
   "execution_count": 1,
   "id": "f071b9f2",
   "metadata": {},
   "outputs": [],
   "source": [
    "import warnings\n",
    "warnings.filterwarnings('ignore')\n",
    "import pandas as pd\n",
    "import numpy as np\n",
    "import re\n",
    "import matplotlib.pyplot as plt\n",
    "%matplotlib inline\n",
    "import seaborn as sns\n",
    "import emoji\n",
    "import nltk\n",
    "import string\n",
    "from collections import Counter\n",
    "from wordcloud import WordCloud, ImageColorGenerator, STOPWORDS\n",
    "from nltk.tokenize import word_tokenize\n",
    "from nltk.corpus import stopwords\n",
    "from nltk.stem.porter import PorterStemmer\n",
    "from nltk.stem.snowball import SnowballStemmer\n",
    "from nltk.stem import WordNetLemmatizer\n",
    "from sklearn.model_selection import cross_val_score\n",
    "from sklearn.metrics import accuracy_score, f1_score, confusion_matrix, classification_report\n",
    "from sklearn.model_selection import GridSearchCV\n",
    "from sklearn.model_selection import RandomizedSearchCV\n",
    "from sklearn.linear_model import LogisticRegression\n",
    "from sklearn.ensemble import RandomForestClassifier\n",
    "from sklearn.ensemble import AdaBoostClassifier\n",
    "from sklearn.svm import SVC,LinearSVC\n",
    "from sklearn.naive_bayes import MultinomialNB\n",
    "from sklearn.tree import DecisionTreeClassifier\n",
    "from sklearn.pipeline import Pipeline\n",
    "import pickle"
   ]
  },
  {
   "cell_type": "code",
   "execution_count": 2,
   "id": "e2b7eae2",
   "metadata": {},
   "outputs": [],
   "source": [
    "# removing stop word from text\n",
    "stop_words = set(stopwords.words('english'))"
   ]
  },
  {
   "cell_type": "markdown",
   "id": "7615ec0d",
   "metadata": {},
   "source": [
    "### Preprocessing of Text"
   ]
  },
  {
   "cell_type": "code",
   "execution_count": 3,
   "id": "3b02ab8c",
   "metadata": {},
   "outputs": [],
   "source": [
    "#removing emoji from the text if any\n",
    "def strip_emoji(text):\n",
    "    return emoji.replace_emoji(text,replace=\"\")"
   ]
  },
  {
   "cell_type": "markdown",
   "id": "9ec28001",
   "metadata": {},
   "source": [
    "### Fucntion to Convert text to lowercase, remove (/r, /n characters), URLs, non-utf\n",
    "### characters, Numbers, punctuations,stopwords"
   ]
  },
  {
   "cell_type": "code",
   "execution_count": 4,
   "id": "2a89775d",
   "metadata": {},
   "outputs": [],
   "source": [
    "def strip_all_entities(text):\n",
    "    text = text.replace('\\r', '').replace('\\n', ' ').lower()\n",
    "    text = re.sub(r\"(?:\\@|https?\\://)\\S+\", \"link\", text)\n",
    "    text = re.sub(r'[^\\x00-\\x7f]',r'', text)\n",
    "    text = re.sub(r'(.)1+', r'1', text)\n",
    "    text = re.sub('[0-9]+', '', text)\n",
    "    stopchars= string.punctuation\n",
    "    table = str.maketrans('', '', stopchars)\n",
    "    text = text.translate(table)\n",
    "    text = [word for word in text.split() if word not in stop_words]\n",
    "    text = ' '.join(text)\n",
    "    return text"
   ]
  },
  {
   "cell_type": "markdown",
   "id": "94d45adb",
   "metadata": {},
   "source": [
    "### Function to remove contractions"
   ]
  },
  {
   "cell_type": "code",
   "execution_count": 5,
   "id": "4067d3fb",
   "metadata": {},
   "outputs": [],
   "source": [
    "def decontract(text):\n",
    "    text = re.sub(r\"can\\'t\", \"can not\", text)\n",
    "    text = re.sub(r\"n\\'t\", \" not\", text)\n",
    "    text = re.sub(r\"\\'re\", \" are\", text)\n",
    "    text = re.sub(r\"\\'s\", \" is\", text)\n",
    "    text = re.sub(r\"\\'d\", \" would\", text)\n",
    "    text = re.sub(r\"\\'ll\", \" will\", text)\n",
    "    text = re.sub(r\"\\'t\", \" not\", text)\n",
    "    text = re.sub(r\"\\'ve\", \" have\", text)\n",
    "    text = re.sub(r\"\\'m\", \" am\", text)\n",
    "    return text"
   ]
  },
  {
   "cell_type": "markdown",
   "id": "63680d3c",
   "metadata": {},
   "source": [
    "### Function to Clean Hashtags"
   ]
  },
  {
   "cell_type": "code",
   "execution_count": 6,
   "id": "14351035",
   "metadata": {},
   "outputs": [],
   "source": [
    "def clean_hashtags(tweet):\n",
    "    new_tweet = \" \".join(word.strip() for word in re.split('#(?!(?:hashtag)\\b)[\\w-]+(?=(?:\\s+#[\\w-]+)*\\s*$)', tweet))\n",
    "    new_tweet2 = \" \".join(word.strip() for word in re.split('#|_', new_tweet))\n",
    "    return new_tweet2"
   ]
  },
  {
   "cell_type": "markdown",
   "id": "25325cce",
   "metadata": {},
   "source": [
    "### Function to Filter Special Characters such as $, &"
   ]
  },
  {
   "cell_type": "code",
   "execution_count": 7,
   "id": "f41fbbd8",
   "metadata": {},
   "outputs": [],
   "source": [
    "def filter_chars(a):\n",
    "    sent = []\n",
    "    for word in a.split(' '):\n",
    "        if ('$' in word) | ('&' in word):\n",
    "            sent.append('')\n",
    "        else:\n",
    "            sent.append(word)\n",
    "    return ' '.join(sent)"
   ]
  },
  {
   "cell_type": "markdown",
   "id": "dc7e67d7",
   "metadata": {},
   "source": [
    "### Function to remove mutiple sequence spaces"
   ]
  },
  {
   "cell_type": "code",
   "execution_count": 8,
   "id": "7782a17a",
   "metadata": {},
   "outputs": [],
   "source": [
    "def remove_mult_spaces(text):\n",
    "    return re.sub(\"\\s\\s+\" , \" \", text)"
   ]
  },
  {
   "cell_type": "markdown",
   "id": "931aac1e",
   "metadata": {},
   "source": [
    "###  Function to apply stemming to words"
   ]
  },
  {
   "cell_type": "code",
   "execution_count": 9,
   "id": "640b709e",
   "metadata": {},
   "outputs": [],
   "source": [
    "def stemmer(text):\n",
    "    tokenized = nltk.word_tokenize(text)\n",
    "    ps = PorterStemmer()\n",
    "    return ' '.join([ps.stem(words) for words in tokenized])"
   ]
  },
  {
   "cell_type": "markdown",
   "id": "3b5fbee4",
   "metadata": {},
   "source": [
    "### Function to apply lemmatization to words"
   ]
  },
  {
   "cell_type": "code",
   "execution_count": 10,
   "id": "2986f23a",
   "metadata": {},
   "outputs": [],
   "source": [
    "def lemmatize(text):\n",
    "    tokenized = nltk.word_tokenize(text)\n",
    "    lm = WordNetLemmatizer()\n",
    "    return ' '.join([lm.lemmatize(words) for words in tokenized])"
   ]
  },
  {
   "cell_type": "markdown",
   "id": "d4bf2c8a",
   "metadata": {},
   "source": [
    "## Function to Preprocess the text by applying all above functions"
   ]
  },
  {
   "cell_type": "code",
   "execution_count": 11,
   "id": "087fdcdf",
   "metadata": {},
   "outputs": [],
   "source": [
    "def preprocess(text):\n",
    "    text = strip_emoji(text)\n",
    "    text = decontract(text)\n",
    "    text = strip_all_entities(text)\n",
    "    text = clean_hashtags(text)\n",
    "    text = filter_chars(text)\n",
    "    text = remove_mult_spaces(text)\n",
    "    text = stemmer(text)\n",
    "    text = lemmatize(text)\n",
    "    text = word_tokenize(text)\n",
    "    return text\n"
   ]
  },
  {
   "cell_type": "code",
   "execution_count": 12,
   "id": "47ddb3a9",
   "metadata": {},
   "outputs": [],
   "source": [
    "df=pd.read_csv(r\"C:\\Users\\johan\\Downloads\\Data Scientist Test Data\\Data Scientist Test Data\\Train Data.csv\")\n",
    "df = df.drop(columns=\"Unnamed: 0\")\n",
    "df.Label = df.Label.astype(\"int\")"
   ]
  },
  {
   "cell_type": "code",
   "execution_count": 13,
   "id": "8d0e6161",
   "metadata": {},
   "outputs": [
    {
     "data": {
      "text/html": [
       "<div>\n",
       "<style scoped>\n",
       "    .dataframe tbody tr th:only-of-type {\n",
       "        vertical-align: middle;\n",
       "    }\n",
       "\n",
       "    .dataframe tbody tr th {\n",
       "        vertical-align: top;\n",
       "    }\n",
       "\n",
       "    .dataframe thead th {\n",
       "        text-align: right;\n",
       "    }\n",
       "</style>\n",
       "<table border=\"1\" class=\"dataframe\">\n",
       "  <thead>\n",
       "    <tr style=\"text-align: right;\">\n",
       "      <th></th>\n",
       "      <th>Text</th>\n",
       "      <th>Label</th>\n",
       "      <th>cleaned_text</th>\n",
       "    </tr>\n",
       "  </thead>\n",
       "  <tbody>\n",
       "    <tr>\n",
       "      <th>0</th>\n",
       "      <td>MARCH 2010 This publication was produced for ...</td>\n",
       "      <td>1</td>\n",
       "      <td>[march, public, produc, review, unit, state, a...</td>\n",
       "    </tr>\n",
       "    <tr>\n",
       "      <th>1</th>\n",
       "      <td>Capacity Building Evidence Ownership Health Sy...</td>\n",
       "      <td>1</td>\n",
       "      <td>[capac, build, evid, ownership, health, system...</td>\n",
       "    </tr>\n",
       "    <tr>\n",
       "      <th>2</th>\n",
       "      <td>Report of the External Evaluation Team (EET) ...</td>\n",
       "      <td>1</td>\n",
       "      <td>[report, extern, evalu, team, eet, feed, futur...</td>\n",
       "    </tr>\n",
       "    <tr>\n",
       "      <th>3</th>\n",
       "      <td>USAID/Kenya Primary Math and Reading (PRIMR) ...</td>\n",
       "      <td>1</td>\n",
       "      <td>[usaidkenya, primari, math, read, primr, initi...</td>\n",
       "    </tr>\n",
       "    <tr>\n",
       "      <th>4</th>\n",
       "      <td>Final Evaluation of the Land Conflict Resolut...</td>\n",
       "      <td>1</td>\n",
       "      <td>[final, evalu, land, conflict, resolut, projec...</td>\n",
       "    </tr>\n",
       "  </tbody>\n",
       "</table>\n",
       "</div>"
      ],
      "text/plain": [
       "                                                Text  Label  \\\n",
       "0   MARCH 2010 This publication was produced for ...      1   \n",
       "1  Capacity Building Evidence Ownership Health Sy...      1   \n",
       "2   Report of the External Evaluation Team (EET) ...      1   \n",
       "3   USAID/Kenya Primary Math and Reading (PRIMR) ...      1   \n",
       "4   Final Evaluation of the Land Conflict Resolut...      1   \n",
       "\n",
       "                                        cleaned_text  \n",
       "0  [march, public, produc, review, unit, state, a...  \n",
       "1  [capac, build, evid, ownership, health, system...  \n",
       "2  [report, extern, evalu, team, eet, feed, futur...  \n",
       "3  [usaidkenya, primari, math, read, primr, initi...  \n",
       "4  [final, evalu, land, conflict, resolut, projec...  "
      ]
     },
     "execution_count": 13,
     "metadata": {},
     "output_type": "execute_result"
    }
   ],
   "source": [
    "df['cleaned_text'] = df['Text'].apply(preprocess)\n",
    "df.head()"
   ]
  },
  {
   "cell_type": "code",
   "execution_count": 14,
   "id": "4c159f06",
   "metadata": {},
   "outputs": [],
   "source": [
    "#create the text length\n",
    "text_len = []\n",
    "for text in df.cleaned_text:\n",
    "    tweet_len = len(text)\n",
    "    text_len.append(tweet_len)\n",
    "df['text_len'] = text_len"
   ]
  },
  {
   "cell_type": "code",
   "execution_count": 15,
   "id": "1e52f99d",
   "metadata": {},
   "outputs": [
    {
     "data": {
      "image/png": "[encoded data removed]",
      "text/plain": [
       "<Figure size 640x480 with 1 Axes>"
      ]
     },
     "metadata": {},
     "output_type": "display_data"
    }
   ],
   "source": [
    "# Create histogram\n",
    "sns.distplot(df['text_len'], kde=False)\n",
    "\n",
    "# Set plot properties\n",
    "plt.title(\"Histogram of text_len\")\n",
    "plt.xlabel(\"text_len\")\n",
    "plt.ylabel(\"Frequency\")\n",
    "\n",
    "# Display the plot\n",
    "plt.show()"
   ]
  },
  {
   "cell_type": "markdown",
   "id": "d559510a",
   "metadata": {},
   "source": [
    "### Removing text without words"
   ]
  },
  {
   "cell_type": "code",
   "execution_count": 16,
   "id": "2def2f28",
   "metadata": {},
   "outputs": [],
   "source": [
    "df = df[df['text_len']!=0]"
   ]
  },
  {
   "cell_type": "code",
   "execution_count": 17,
   "id": "07a17af7",
   "metadata": {},
   "outputs": [
    {
     "data": {
      "text/plain": [
       "(200, 4)"
      ]
     },
     "execution_count": 17,
     "metadata": {},
     "output_type": "execute_result"
    }
   ],
   "source": [
    "df.shape"
   ]
  },
  {
   "cell_type": "code",
   "execution_count": 18,
   "id": "7a823119",
   "metadata": {},
   "outputs": [
    {
     "data": {
      "text/plain": [
       "<AxesSubplot:>"
      ]
     },
     "execution_count": 18,
     "metadata": {},
     "output_type": "execute_result"
    },
    {
     "data": {
      "image/png": "[encoded data removed]",
      "text/plain": [
       "<Figure size 640x480 with 1 Axes>"
      ]
     },
     "metadata": {},
     "output_type": "display_data"
    }
   ],
   "source": [
    "#checking whether this is unbalance class by barchat\n",
    "df['Label'].value_counts().plot(kind='bar')"
   ]
  },
  {
   "cell_type": "code",
   "execution_count": 19,
   "id": "5a40448b",
   "metadata": {},
   "outputs": [],
   "source": [
    "def build_freqs(tweets, ys):\n",
    "    \"\"\"Build frequencies.\n",
    "    Input:\n",
    "        tweets: a list of tweets\n",
    "        ys: an m x 1 array with the sentiment label of each tweet\n",
    "            (either 0 or 1)\n",
    "    Output:\n",
    "        freqs: a dictionary mapping each (word, sentiment) pair to its\n",
    "        frequency\n",
    "    \"\"\"\n",
    "    # Convert np array to list since zip needs an iterable.\n",
    "    # The squeeze is necessary or the list ends up with one element.\n",
    "    # Also note that this is just a NOP if ys is already a list.\n",
    "    yslist = np.squeeze(ys).tolist()\n",
    "\n",
    "    # Start with an empty dictionary and populate it by looping over all tweets\n",
    "    # and over all processed words in each tweet.\n",
    "    freqs = {}\n",
    "    for y, tweet in zip(yslist, tweets):\n",
    "        for word in preprocess(tweet):\n",
    "            pair = (word, y)\n",
    "            if pair in freqs:\n",
    "                freqs[pair] += 1\n",
    "            else:\n",
    "                freqs[pair] = 1\n",
    "\n",
    "    return freqs"
   ]
  },
  {
   "cell_type": "code",
   "execution_count": 20,
   "id": "dff2876e",
   "metadata": {},
   "outputs": [],
   "source": [
    "def extract_features(tweet, freqs, preprocess=preprocess):\n",
    "    '''\n",
    "    Input: \n",
    "        tweet: a list of words for one tweet\n",
    "        freqs: a dictionary corresponding to the frequencies of each tuple (word, label)\n",
    "    Output: \n",
    "        x: a feature vector of dimension (1,3)\n",
    "    '''\n",
    "    # process_tweet tokenizes, stems, and removes stopwords\n",
    "    word_l = preprocess(tweet)\n",
    "    \n",
    "    # 3 elements in the form of a 1 x 3 vector\n",
    "    x = np.zeros((1, 3)) \n",
    "    \n",
    "    #bias term is set to 1\n",
    "    x[0,0] = 1 \n",
    "    \n",
    "    ### START CODE HERE ###\n",
    "    \n",
    "    # loop through each word in the list of words\n",
    "    for word in word_l:\n",
    "        \n",
    "        # increment the word count for the positive label 1\n",
    "        x[0,1] += freqs.get((word,1),0)\n",
    "        \n",
    "        # increment the word count for the negative label 0\n",
    "        x[0,2] += freqs.get((word,0),0)\n",
    "        \n",
    "    ### END CODE HERE ###\n",
    "    assert(x.shape == (1, 3))\n",
    "    return x"
   ]
  },
  {
   "cell_type": "code",
   "execution_count": 21,
   "id": "6d9f4d12",
   "metadata": {},
   "outputs": [],
   "source": [
    "#build a dictionalry_dict  \n",
    "word_dict=build_freqs(df.Text, df.Label)\n",
    "#After you build a dictionary, you just create a new table with only 3 columns, \n",
    "notes = df.Text\n",
    "X = np.zeros((len(notes), 3))\n",
    "for i in range(len(notes)):\n",
    "    X[i, :]= extract_features(notes[i], word_dict)\n",
    "Y= df.Label"
   ]
  },
  {
   "cell_type": "code",
   "execution_count": 22,
   "id": "faf8b5ae",
   "metadata": {},
   "outputs": [
    {
     "name": "stdout",
     "output_type": "stream",
     "text": [
      "(160, 3) (160,) (40, 3) (40,)\n"
     ]
    }
   ],
   "source": [
    "from sklearn.model_selection import train_test_split\n",
    "X_train, X_test, y_train, y_test = train_test_split(X, Y, test_size = 0.2, stratify =Y, random_state = 42)\n",
    "print(X_train.shape, y_train.shape, X_test.shape, y_test.shape)"
   ]
  },
  {
   "cell_type": "markdown",
   "id": "5a9fa55a",
   "metadata": {},
   "source": [
    "## Trying Different ML Models"
   ]
  },
  {
   "cell_type": "markdown",
   "id": "671a1248",
   "metadata": {},
   "source": [
    "### Logistic Regression"
   ]
  },
  {
   "cell_type": "code",
   "execution_count": 23,
   "id": "804e7010",
   "metadata": {},
   "outputs": [],
   "source": [
    "from sklearn.linear_model import LogisticRegression\n",
    "from sklearn.metrics import classification_report, confusion_matrix,classification_report,accuracy_score\n",
    "model = LogisticRegression(solver='liblinear', random_state=0)\n",
    "model.fit(X_train, y_train)\n",
    "pred_priba = model.predict_proba(X_test)\n",
    "pred_label = model.predict(X_test)"
   ]
  },
  {
   "cell_type": "code",
   "execution_count": 24,
   "id": "0aa2e797",
   "metadata": {},
   "outputs": [
    {
     "data": {
      "text/plain": [
       "array([[17,  3],\n",
       "       [ 6, 14]], dtype=int64)"
      ]
     },
     "execution_count": 24,
     "metadata": {},
     "output_type": "execute_result"
    }
   ],
   "source": [
    "confusion_matrix(y_test, pred_label)"
   ]
  },
  {
   "cell_type": "code",
   "execution_count": 25,
   "id": "da64af84",
   "metadata": {},
   "outputs": [
    {
     "data": {
      "text/plain": [
       "0.775"
      ]
     },
     "execution_count": 25,
     "metadata": {},
     "output_type": "execute_result"
    }
   ],
   "source": [
    "accuracy_score(y_test, pred_label)"
   ]
  },
  {
   "cell_type": "code",
   "execution_count": 26,
   "id": "c7cc981c",
   "metadata": {},
   "outputs": [],
   "source": [
    "from sklearn import metrics\n",
    "fpr, tpr, thresholds = metrics.roc_curve(y_test, pred_priba[:,1], pos_label=1)"
   ]
  },
  {
   "cell_type": "code",
   "execution_count": 27,
   "id": "13d8ef79",
   "metadata": {},
   "outputs": [
    {
     "data": {
      "text/plain": [
       "0.7725"
      ]
     },
     "execution_count": 27,
     "metadata": {},
     "output_type": "execute_result"
    }
   ],
   "source": [
    "metrics.auc(fpr, tpr)"
   ]
  },
  {
   "cell_type": "code",
   "execution_count": 28,
   "id": "571d6ce5",
   "metadata": {},
   "outputs": [
    {
     "name": "stdout",
     "output_type": "stream",
     "text": [
      "Classification Report:\n",
      "               precision    recall  f1-score   support\n",
      "\n",
      "           0       0.74      0.85      0.79        20\n",
      "           1       0.82      0.70      0.76        20\n",
      "\n",
      "    accuracy                           0.78        40\n",
      "   macro avg       0.78      0.77      0.77        40\n",
      "weighted avg       0.78      0.78      0.77        40\n",
      "\n"
     ]
    }
   ],
   "source": [
    "from sklearn.metrics import accuracy_score, f1_score, confusion_matrix, classification_report\n",
    "print('Classification Report:\\n',classification_report(y_test, pred_label))"
   ]
  },
  {
   "cell_type": "markdown",
   "id": "ec6b2c4d",
   "metadata": {},
   "source": [
    "### Support Vector Classifier"
   ]
  },
  {
   "cell_type": "code",
   "execution_count": 29,
   "id": "6efc4e39",
   "metadata": {},
   "outputs": [],
   "source": [
    "from sklearn.calibration import CalibratedClassifierCV\n",
    "from sklearn.svm import LinearSVC\n",
    "\n",
    "# Train the model\n",
    "model1 = LinearSVC()\n",
    "calibrated_model1 = CalibratedClassifierCV(model1)  # wrap the model in CalibratedClassifierCV\n",
    "calibrated_model1.fit(X_train, y_train)\n",
    "\n",
    "# Make predictions\n",
    "pred_priba1 = calibrated_model1.predict_proba(X_test)\n",
    "pred_label1 = calibrated_model1.predict(X_test)"
   ]
  },
  {
   "cell_type": "code",
   "execution_count": 30,
   "id": "787ea939",
   "metadata": {},
   "outputs": [
    {
     "data": {
      "text/plain": [
       "array([[17,  3],\n",
       "       [ 6, 14]], dtype=int64)"
      ]
     },
     "execution_count": 30,
     "metadata": {},
     "output_type": "execute_result"
    }
   ],
   "source": [
    "confusion_matrix(y_test, pred_label1)"
   ]
  },
  {
   "cell_type": "code",
   "execution_count": 31,
   "id": "bd6f1b2b",
   "metadata": {},
   "outputs": [
    {
     "data": {
      "text/plain": [
       "0.775"
      ]
     },
     "execution_count": 31,
     "metadata": {},
     "output_type": "execute_result"
    }
   ],
   "source": [
    "accuracy_score(y_test, pred_label1)"
   ]
  },
  {
   "cell_type": "code",
   "execution_count": 32,
   "id": "35958a39",
   "metadata": {},
   "outputs": [
    {
     "name": "stdout",
     "output_type": "stream",
     "text": [
      "Classification Report:\n",
      "               precision    recall  f1-score   support\n",
      "\n",
      "           0       0.74      0.85      0.79        20\n",
      "           1       0.82      0.70      0.76        20\n",
      "\n",
      "    accuracy                           0.78        40\n",
      "   macro avg       0.78      0.77      0.77        40\n",
      "weighted avg       0.78      0.78      0.77        40\n",
      "\n"
     ]
    }
   ],
   "source": [
    "print('Classification Report:\\n',classification_report(y_test, pred_label1))"
   ]
  },
  {
   "cell_type": "markdown",
   "id": "33f90481",
   "metadata": {},
   "source": [
    "### Naive Bayes Classifier"
   ]
  },
  {
   "cell_type": "code",
   "execution_count": 33,
   "id": "e887f400",
   "metadata": {},
   "outputs": [],
   "source": [
    "multiNB = MultinomialNB()\n",
    "multiNB.fit(X_train, y_train)\n",
    "pred_pri = multiNB.predict_proba(X_test)\n",
    "pred_la = multiNB.predict(X_test)"
   ]
  },
  {
   "cell_type": "code",
   "execution_count": 34,
   "id": "5cb202c8",
   "metadata": {},
   "outputs": [
    {
     "data": {
      "text/plain": [
       "array([[17,  3],\n",
       "       [ 8, 12]], dtype=int64)"
      ]
     },
     "execution_count": 34,
     "metadata": {},
     "output_type": "execute_result"
    }
   ],
   "source": [
    "confusion_matrix(y_test, pred_la)"
   ]
  },
  {
   "cell_type": "code",
   "execution_count": 35,
   "id": "15f66778",
   "metadata": {},
   "outputs": [
    {
     "data": {
      "text/plain": [
       "0.725"
      ]
     },
     "execution_count": 35,
     "metadata": {},
     "output_type": "execute_result"
    }
   ],
   "source": [
    "accuracy_score(y_test, pred_la)"
   ]
  },
  {
   "cell_type": "code",
   "execution_count": 36,
   "id": "4b63e829",
   "metadata": {},
   "outputs": [
    {
     "name": "stdout",
     "output_type": "stream",
     "text": [
      "Classification Report:\n",
      "               precision    recall  f1-score   support\n",
      "\n",
      "           0       0.68      0.85      0.76        20\n",
      "           1       0.80      0.60      0.69        20\n",
      "\n",
      "    accuracy                           0.73        40\n",
      "   macro avg       0.74      0.72      0.72        40\n",
      "weighted avg       0.74      0.72      0.72        40\n",
      "\n"
     ]
    }
   ],
   "source": [
    "print('Classification Report:\\n',classification_report(y_test, pred_la))"
   ]
  },
  {
   "cell_type": "markdown",
   "id": "77fbffe9",
   "metadata": {},
   "source": [
    "### Decison Tree Classifier"
   ]
  },
  {
   "cell_type": "code",
   "execution_count": 37,
   "id": "51d4142f",
   "metadata": {},
   "outputs": [],
   "source": [
    "dtree = DecisionTreeClassifier()\n",
    "dtree.fit(X_train, y_train)\n",
    "pred_t = dtree.predict_proba(X_test)\n",
    "pred_l = dtree.predict(X_test)"
   ]
  },
  {
   "cell_type": "code",
   "execution_count": 38,
   "id": "3c7feac1",
   "metadata": {},
   "outputs": [
    {
     "data": {
      "text/plain": [
       "array([[13,  7],\n",
       "       [ 9, 11]], dtype=int64)"
      ]
     },
     "execution_count": 38,
     "metadata": {},
     "output_type": "execute_result"
    }
   ],
   "source": [
    "confusion_matrix(y_test, pred_l)"
   ]
  },
  {
   "cell_type": "code",
   "execution_count": 39,
   "id": "422806c0",
   "metadata": {},
   "outputs": [
    {
     "data": {
      "text/plain": [
       "0.6"
      ]
     },
     "execution_count": 39,
     "metadata": {},
     "output_type": "execute_result"
    }
   ],
   "source": [
    "accuracy_score(y_test, pred_l)"
   ]
  },
  {
   "cell_type": "code",
   "execution_count": 40,
   "id": "43c9a823",
   "metadata": {},
   "outputs": [
    {
     "name": "stdout",
     "output_type": "stream",
     "text": [
      "Classification Report:\n",
      "               precision    recall  f1-score   support\n",
      "\n",
      "           0       0.59      0.65      0.62        20\n",
      "           1       0.61      0.55      0.58        20\n",
      "\n",
      "    accuracy                           0.60        40\n",
      "   macro avg       0.60      0.60      0.60        40\n",
      "weighted avg       0.60      0.60      0.60        40\n",
      "\n"
     ]
    }
   ],
   "source": [
    "print('Classification Report:\\n',classification_report(y_test, pred_l))"
   ]
  },
  {
   "cell_type": "markdown",
   "id": "1401f9e3",
   "metadata": {},
   "source": [
    "### RandomForest Classifier"
   ]
  },
  {
   "cell_type": "code",
   "execution_count": 41,
   "id": "77fb9799",
   "metadata": {},
   "outputs": [],
   "source": [
    "rand_forest = RandomForestClassifier()\n",
    "rand_forest.fit(X_train, y_train)\n",
    "pred_tr = rand_forest.predict_proba(X_test)\n",
    "pred_lr = rand_forest.predict(X_test)"
   ]
  },
  {
   "cell_type": "code",
   "execution_count": 42,
   "id": "31d8a9f5",
   "metadata": {},
   "outputs": [
    {
     "data": {
      "text/plain": [
       "array([[11,  9],\n",
       "       [ 6, 14]], dtype=int64)"
      ]
     },
     "execution_count": 42,
     "metadata": {},
     "output_type": "execute_result"
    }
   ],
   "source": [
    "confusion_matrix(y_test, pred_lr)"
   ]
  },
  {
   "cell_type": "code",
   "execution_count": 43,
   "id": "bd39c93b",
   "metadata": {},
   "outputs": [
    {
     "data": {
      "text/plain": [
       "0.625"
      ]
     },
     "execution_count": 43,
     "metadata": {},
     "output_type": "execute_result"
    }
   ],
   "source": [
    "accuracy_score(y_test, pred_lr)"
   ]
  },
  {
   "cell_type": "code",
   "execution_count": 44,
   "id": "d3e47033",
   "metadata": {
    "scrolled": true
   },
   "outputs": [
    {
     "name": "stdout",
     "output_type": "stream",
     "text": [
      "Classification Report:\n",
      "               precision    recall  f1-score   support\n",
      "\n",
      "           0       0.65      0.55      0.59        20\n",
      "           1       0.61      0.70      0.65        20\n",
      "\n",
      "    accuracy                           0.62        40\n",
      "   macro avg       0.63      0.62      0.62        40\n",
      "weighted avg       0.63      0.62      0.62        40\n",
      "\n"
     ]
    }
   ],
   "source": [
    "print('Classification Report:\\n',classification_report(y_test, pred_lr))"
   ]
  },
  {
   "cell_type": "markdown",
   "id": "232c2b67",
   "metadata": {},
   "source": [
    "### Adaboost Classifier"
   ]
  },
  {
   "cell_type": "code",
   "execution_count": 45,
   "id": "990262c9",
   "metadata": {},
   "outputs": [],
   "source": [
    "adab = AdaBoostClassifier()\n",
    "adab.fit(X_train, y_train)\n",
    "pred_td = adab.predict_proba(X_test)\n",
    "pred_ld = adab.predict(X_test)"
   ]
  },
  {
   "cell_type": "code",
   "execution_count": 46,
   "id": "1e7f2e17",
   "metadata": {},
   "outputs": [
    {
     "data": {
      "text/plain": [
       "array([[10, 10],\n",
       "       [ 9, 11]], dtype=int64)"
      ]
     },
     "execution_count": 46,
     "metadata": {},
     "output_type": "execute_result"
    }
   ],
   "source": [
    "confusion_matrix(y_test, pred_ld)"
   ]
  },
  {
   "cell_type": "code",
   "execution_count": 47,
   "id": "8df9b09d",
   "metadata": {},
   "outputs": [
    {
     "data": {
      "text/plain": [
       "0.525"
      ]
     },
     "execution_count": 47,
     "metadata": {},
     "output_type": "execute_result"
    }
   ],
   "source": [
    "accuracy_score(y_test,pred_ld)"
   ]
  },
  {
   "cell_type": "code",
   "execution_count": 48,
   "id": "04c775d3",
   "metadata": {},
   "outputs": [
    {
     "name": "stdout",
     "output_type": "stream",
     "text": [
      "Classification Report:\n",
      "               precision    recall  f1-score   support\n",
      "\n",
      "           0       0.53      0.50      0.51        20\n",
      "           1       0.52      0.55      0.54        20\n",
      "\n",
      "    accuracy                           0.53        40\n",
      "   macro avg       0.53      0.53      0.52        40\n",
      "weighted avg       0.53      0.53      0.52        40\n",
      "\n"
     ]
    }
   ],
   "source": [
    "print('Classification Report:\\n',classification_report(y_test, pred_ld))"
   ]
  },
  {
   "cell_type": "markdown",
   "id": "a8d09256",
   "metadata": {},
   "source": [
    "### By trying different models we can see logistic regression, svm and naive bayes classifier performed  almost similarly, so among these we will go with logistic regression model as it is more generalised and light"
   ]
  },
  {
   "cell_type": "markdown",
   "id": "16514ca6",
   "metadata": {},
   "source": [
    "### Fine Tuning  logistic regression"
   ]
  },
  {
   "cell_type": "code",
   "execution_count": 49,
   "id": "0f030179",
   "metadata": {},
   "outputs": [
    {
     "name": "stdout",
     "output_type": "stream",
     "text": [
      "dict_keys(['C', 'class_weight', 'dual', 'fit_intercept', 'intercept_scaling', 'l1_ratio', 'max_iter', 'multi_class', 'n_jobs', 'penalty', 'random_state', 'solver', 'tol', 'verbose', 'warm_start'])\n",
      "Fitting 5 folds for each of 8 candidates, totalling 40 fits\n"
     ]
    },
    {
     "data": {
      "text/plain": [
       "GridSearchCV(cv=5, estimator=LogisticRegression(C=0.0001, random_state=42),\n",
       "             n_jobs=-1,\n",
       "             param_grid={'fit_intercept': [True, False],\n",
       "                         'penalty': ['l1', 'l2', 'elasticnet', 'none']},\n",
       "             return_train_score=True, scoring='f1_macro', verbose=1)"
      ]
     },
     "execution_count": 49,
     "metadata": {},
     "output_type": "execute_result"
    }
   ],
   "source": [
    "# Create a LogisticRegression estimator object\n",
    "lgc1 = LogisticRegression(C=0.0001, random_state=42)\n",
    "\n",
    "# Check the available parameters for the estimator\n",
    "print(lgc1.get_params().keys())\n",
    "\n",
    "# Define the parameter grid for GridSearchCV\n",
    "param_grid = {'penalty': ['l1', 'l2', 'elasticnet', 'none'],\n",
    "              'fit_intercept':[True, False]}\n",
    "\n",
    "# Create a GridSearchCV object and fit the data\n",
    "grid_search = GridSearchCV(lgc1, param_grid, cv=5, scoring='f1_macro', n_jobs=-1, verbose=1, return_train_score=True)\n",
    "grid_search.fit(X_train, y_train)"
   ]
  },
  {
   "cell_type": "code",
   "execution_count": 50,
   "id": "dae3771c",
   "metadata": {},
   "outputs": [
    {
     "data": {
      "text/plain": [
       "LogisticRegression(C=0.0001, random_state=42)"
      ]
     },
     "execution_count": 50,
     "metadata": {},
     "output_type": "execute_result"
    }
   ],
   "source": [
    "grid_search.best_estimator_"
   ]
  },
  {
   "cell_type": "code",
   "execution_count": 51,
   "id": "62f70631",
   "metadata": {},
   "outputs": [
    {
     "data": {
      "text/plain": [
       "0.7299459216726769"
      ]
     },
     "execution_count": 51,
     "metadata": {},
     "output_type": "execute_result"
    }
   ],
   "source": [
    "grid_search.best_score_"
   ]
  },
  {
   "cell_type": "markdown",
   "id": "6748105e",
   "metadata": {},
   "source": [
    "### Prediction of the test data"
   ]
  },
  {
   "cell_type": "code",
   "execution_count": 52,
   "id": "e3a7ef73",
   "metadata": {},
   "outputs": [],
   "source": [
    "df1=pd.read_csv(r\"C:\\Users\\johan\\Downloads\\Data Scientist Test Data\\Data Scientist Test Data\\Test Data.csv\")\n",
    "df1 = df1.drop(columns=\"Unnamed: 0\")"
   ]
  },
  {
   "cell_type": "code",
   "execution_count": 53,
   "id": "4413aa70",
   "metadata": {},
   "outputs": [],
   "source": [
    "note=df1.Text\n",
    "X_test = np.zeros((len(note), 3))\n",
    "for i,row in enumerate(note):\n",
    "       X_test[i, :]= extract_features(row, word_dict)\n",
    "\n"
   ]
  },
  {
   "cell_type": "code",
   "execution_count": 54,
   "id": "66bdc423",
   "metadata": {},
   "outputs": [
    {
     "data": {
      "text/plain": [
       "array([1, 1, 1, 1, 0, 1, 1, 0, 0, 1, 1, 1, 1, 0, 0, 0, 0, 1, 0, 1, 0, 1,\n",
       "       1, 1, 1, 1, 1, 1, 1, 0, 1, 1, 1, 1, 1, 0, 0, 1, 1, 1, 0, 1, 1, 0,\n",
       "       1, 1, 1, 1, 0, 1])"
      ]
     },
     "execution_count": 54,
     "metadata": {},
     "output_type": "execute_result"
    }
   ],
   "source": [
    "model.predict(X_test)"
   ]
  },
  {
   "cell_type": "code",
   "execution_count": 55,
   "id": "1083c782",
   "metadata": {},
   "outputs": [
    {
     "data": {
      "text/plain": [
       "50"
      ]
     },
     "execution_count": 55,
     "metadata": {},
     "output_type": "execute_result"
    }
   ],
   "source": [
    "len(model.predict(X_test))"
   ]
  },
  {
   "cell_type": "markdown",
   "id": "3e0a74cc",
   "metadata": {},
   "source": [
    "In conclusion, my analysis of the dataset revealed several key findings that have important implications for Anti-Corruption Country Threshold (ACT) program in Uganda of the client. Our analysis identified the most significant factors that contribute to Anti-Corruption, and we developed a predictive model that can accurately forecast Anti-Corruption In Uganda. I also discovered that certain factors are more effective than others in driving Anti-Corruption.\n",
    "Overall, this project has demonstrated the value of data science in helping businesses make data-driven decisions. By analyzing Anti-Corruption and developing predictive models, we can identify important trends and make recommendations that drive business growth. I hope that my findings will help the client improve their Anti-Corruption strategy and drive Anti-Corruption in the years to come."
   ]
  },
  {
   "cell_type": "code",
   "execution_count": null,
   "id": "0dbc5d58",
   "metadata": {},
   "outputs": [],
   "source": []
  }
 ],
 "metadata": {
  "kernelspec": {
   "display_name": "Python 3 (ipykernel)",
   "language": "python",
   "name": "python3"
  },
  "language_info": {
   "codemirror_mode": {
    "name": "ipython",
    "version": 3
   },
   "file_extension": ".py",
   "mimetype": "text/x-python",
   "name": "python",
   "nbconvert_exporter": "python",
   "pygments_lexer": "ipython3",
   "version": "3.9.13"
  }
 },
 "nbformat": 4,
 "nbformat_minor": 5
}
